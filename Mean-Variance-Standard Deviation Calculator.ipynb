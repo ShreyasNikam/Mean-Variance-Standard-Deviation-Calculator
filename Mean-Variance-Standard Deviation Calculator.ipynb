{
 "cells": [
  {
   "cell_type": "code",
   "execution_count": 3,
   "id": "b94236c6-b7f7-46e6-ac91-650a82b12021",
   "metadata": {},
   "outputs": [],
   "source": [
    "from pprint import pprint"
   ]
  },
  {
   "cell_type": "code",
   "execution_count": 4,
   "id": "cb6bbcb1-e2ff-4264-8a8d-cbf4d2af641a",
   "metadata": {},
   "outputs": [],
   "source": [
    "import numpy as np"
   ]
  },
  {
   "cell_type": "code",
   "execution_count": 5,
   "id": "a689c271-92d1-4a84-ab57-5749413e4f98",
   "metadata": {},
   "outputs": [],
   "source": [
    "def calculate(arr):\n",
    "    if len(arr) != 9:\n",
    "        raise ValueError(\"List must contain nine numbers.\")\n",
    "    m = np.array(arr).reshape([3,3])\n",
    "    r = {\n",
    "        \"mean\": [m.mean(0).tolist(), m.mean(1).tolist(), m.mean()],\n",
    "        \"variance\": [m.var(0).tolist(), m.var(1).tolist(), m.var()],\n",
    "        \"standard deviation\": [m.std(0).tolist(), m.std(1).tolist(), m.std()],\n",
    "        \"max\": [m.max(0).tolist(), m.max(1).tolist(), m.max()],\n",
    "        \"min\": [m.min(0).tolist(), m.min(1).tolist(), m.min()],\n",
    "        \"sum\": [m.sum(0).tolist(), m.sum(1).tolist(), m.sum()],\n",
    "    }\n",
    "    return r"
   ]
  },
  {
   "cell_type": "code",
   "execution_count": 6,
   "id": "37a3ed89-4dc8-4f54-a0a3-384e1c048a07",
   "metadata": {},
   "outputs": [
    {
     "name": "stdout",
     "output_type": "stream",
     "text": [
      "{'max': [[6, 7, 8], [2, 5, 8], np.int64(8)],\n",
      " 'mean': [[3.0, 4.0, 5.0], [1.0, 4.0, 7.0], np.float64(4.0)],\n",
      " 'min': [[0, 1, 2], [0, 3, 6], np.int64(0)],\n",
      " 'standard deviation': [[2.449489742783178,\n",
      "                         2.449489742783178,\n",
      "                         2.449489742783178],\n",
      "                        [0.816496580927726,\n",
      "                         0.816496580927726,\n",
      "                         0.816496580927726],\n",
      "                        np.float64(2.581988897471611)],\n",
      " 'sum': [[9, 12, 15], [3, 12, 21], np.int64(36)],\n",
      " 'variance': [[6.0, 6.0, 6.0],\n",
      "              [0.6666666666666666, 0.6666666666666666, 0.6666666666666666],\n",
      "              np.float64(6.666666666666667)]}\n"
     ]
    }
   ],
   "source": [
    "pprint(calculate([i for i in range(0, 9)]))"
   ]
  },
  {
   "cell_type": "code",
   "execution_count": 7,
   "id": "a0c67eab-1222-4350-904e-d2c93f30a89b",
   "metadata": {},
   "outputs": [],
   "source": [
    "import unittest"
   ]
  },
  {
   "cell_type": "code",
   "execution_count": 8,
   "id": "8045901f-33e9-429c-b56a-c34a79b04af2",
   "metadata": {},
   "outputs": [],
   "source": [
    "class UnitTests(unittest.TestCase):\n",
    "    def test_calculate(self):\n",
    "        actual = calculate([2, 6, 2, 8, 4, 0, 1, 5, 7])\n",
    "        expected = {\n",
    "            \"mean\": [\n",
    "                [3.6666666666666665, 5.0, 3.0],\n",
    "                [3.3333333333333335, 4.0, 4.333333333333333],\n",
    "                3.888888888888889,\n",
    "            ],\n",
    "            \"variance\": [\n",
    "                [9.555555555555557, 0.6666666666666666, 8.666666666666666],\n",
    "                [3.555555555555556, 10.666666666666666, 6.222222222222221],\n",
    "                6.987654320987654,\n",
    "            ],\n",
    "            \"standard deviation\": [\n",
    "                [3.091206165165235, 0.816496580927726, 2.943920288775949],\n",
    "                [1.8856180831641267, 3.265986323710904, 2.494438257849294],\n",
    "                2.6434171674156266,\n",
    "            ],\n",
    "            \"max\": [[8, 6, 7], [6, 8, 7], 8],\n",
    "            \"min\": [[1, 4, 0], [2, 0, 1], 0],\n",
    "            \"sum\": [[11, 15, 9], [10, 12, 13], 35],\n",
    "        }\n",
    "        self.assertAlmostEqual(\n",
    "            actual,\n",
    "            expected,\n",
    "            \"Expected different output when calling 'calculate()' with '[2,6,2,8,4,0,1,5,7]'\",\n",
    "        )\n",
    "\n",
    "    def test_calculate2(self):\n",
    "        actual = calculate([9, 1, 5, 3, 3, 3, 2, 9, 0])\n",
    "        expected = {\n",
    "            \"mean\": [\n",
    "                [4.666666666666667, 4.333333333333333, 2.6666666666666665],\n",
    "                [5.0, 3.0, 3.6666666666666665],\n",
    "                3.888888888888889,\n",
    "            ],\n",
    "            \"variance\": [\n",
    "                [9.555555555555555, 11.555555555555557, 4.222222222222222],\n",
    "                [10.666666666666666, 0.0, 14.888888888888891],\n",
    "                9.209876543209875,\n",
    "            ],\n",
    "            \"standard deviation\": [\n",
    "                [3.0912061651652345, 3.39934634239519, 2.0548046676563256],\n",
    "                [3.265986323710904, 0.0, 3.8586123009300755],\n",
    "                3.0347778408328137,\n",
    "            ],\n",
    "            \"max\": [[9, 9, 5], [9, 3, 9], 9],\n",
    "            \"min\": [[2, 1, 0], [1, 3, 0], 0],\n",
    "            \"sum\": [[14, 13, 8], [15, 9, 11], 35],\n",
    "        }\n",
    "        self.assertAlmostEqual(\n",
    "            actual,\n",
    "            expected,\n",
    "            \"Expected different output when calling 'calculate()' with '[9,1,5,3,3,3,2,9,0]'\",\n",
    "        )\n",
    "\n",
    "    def test_calculate_with_few_digits(self):\n",
    "        self.assertRaisesRegex(\n",
    "            ValueError,\n",
    "            \"List must contain nine numbers.\",\n",
    "            calculate,\n",
    "            [\n",
    "                2,\n",
    "                6,\n",
    "                2,\n",
    "                8,\n",
    "                4,\n",
    "                0,\n",
    "                1,\n",
    "            ],\n",
    "        )"
   ]
  },
  {
   "cell_type": "code",
   "execution_count": 9,
   "id": "74ee5a18-626b-4994-9b81-b618a3f207c4",
   "metadata": {},
   "outputs": [
    {
     "name": "stderr",
     "output_type": "stream",
     "text": [
      "...\n",
      "----------------------------------------------------------------------\n",
      "Ran 3 tests in 0.005s\n",
      "\n",
      "OK\n"
     ]
    }
   ],
   "source": [
    "if __name__ == \"__main__\":\n",
    "    unittest.main(argv=[\"first-arg-is-ignored\"], exit=False)"
   ]
  },
  {
   "cell_type": "code",
   "execution_count": null,
   "id": "fa4f5075-4361-433f-a529-c1db19fdef99",
   "metadata": {},
   "outputs": [],
   "source": []
  }
 ],
 "metadata": {
  "kernelspec": {
   "display_name": "Python 3 (ipykernel)",
   "language": "python",
   "name": "python3"
  },
  "language_info": {
   "codemirror_mode": {
    "name": "ipython",
    "version": 3
   },
   "file_extension": ".py",
   "mimetype": "text/x-python",
   "name": "python",
   "nbconvert_exporter": "python",
   "pygments_lexer": "ipython3",
   "version": "3.13.0"
  }
 },
 "nbformat": 4,
 "nbformat_minor": 5
}
